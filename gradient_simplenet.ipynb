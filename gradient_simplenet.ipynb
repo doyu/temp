{
 "cells": [
  {
   "cell_type": "markdown",
   "id": "ba1f9104-ce1b-4be7-a291-5c039183229f",
   "metadata": {},
   "source": [
    "# Trying to build a simple Neural Network from scratch"
   ]
  },
  {
   "cell_type": "code",
   "execution_count": 95,
   "id": "524ff062-927e-4726-af47-7850feca5450",
   "metadata": {},
   "outputs": [],
   "source": [
    "# Basic functions to build NN\n",
    "import numpy as np\n",
    "\n",
    "def softmax(x):\n",
    "    x = x - np.max(x, axis=-1, keepdims=True)\n",
    "    return np.exp(x) / np.sum(np.exp(x), axis=-1, keepdims=True)\n",
    "\n",
    "\n",
    "def cross_entropy_error(y, t):\n",
    "    if y.ndim == 1:\n",
    "        t = t.reshape(1, t.size)\n",
    "        y = y.reshape(1, y.size)\n",
    "        \n",
    "    if t.size == y.size:\n",
    "        t = t.argmax(axis=1)\n",
    "             \n",
    "    batch_size = y.shape[0]\n",
    "    return -np.sum(np.log(y[np.arange(batch_size), t] + 1e-7)) / batch_size"
   ]
  },
  {
   "cell_type": "raw",
   "id": "143cd759-6ef6-4760-9010-c515528e2710",
   "metadata": {},
   "source": [
    "There are 2 version of numerical_gradient_{2,n}d(). '2d' always works OK but 'nd' fails in some cases. This failure needs to be sorted out."
   ]
  },
  {
   "cell_type": "code",
   "execution_count": 96,
   "id": "79961ebf-9851-4690-a0fd-471246e98847",
   "metadata": {},
   "outputs": [],
   "source": [
    "# Always works OK\n",
    "def numerical_gradient_2d(f, X):\n",
    "    h = 1e-4\n",
    "    grad = np.zeros_like(X)\n",
    "    for i, row in enumerate(X):\n",
    "        for j, val in enumerate(row):\n",
    "            X[i,j] -= h\n",
    "            y1 = f(X)\n",
    "            X[i,j] += 2*h\n",
    "            y2 = f(X)\n",
    "            grad[i,j] = (y2-y1)/(2*h)\n",
    "            X[i,j] = val\n",
    "    return grad\n",
    "\n",
    "\n",
    "# Doesn't work in some of the following cases\n",
    "def numerical_gradient_nd(f, X):\n",
    "    '''Simply nemerically calcurate gradient of parameter matrix X'''\n",
    "    h = 1e-4\n",
    "    grad = []\n",
    "    Xf = X.flatten()\n",
    "    for i, val in enumerate(Xf):\n",
    "        Xf[i] -= h\n",
    "        y1 = f(Xf.reshape(X.shape))\n",
    "\n",
    "        Xf[i] += 2*h\n",
    "        y2 = f(Xf.reshape(X.shape))\n",
    "        \n",
    "        Xf[i] = val\n",
    "        grad.append((y2-y1) / (2*h))\n",
    "\n",
    "    return np.array(grad).reshape(X.shape)\n",
    "\n",
    "numerical_gradient = numerical_gradient_nd # Set N-dimensional by default"
   ]
  },
  {
   "cell_type": "markdown",
   "id": "8ab2dad3-0cc3-4736-8185-b41d9f26e7fd",
   "metadata": {},
   "source": [
    "Here, I implement 2 NN classes, Net0 and Net1. Net0 doesn't work but Net1 seems to work. Only difference between them is self.gradient(). In self.gradient(), loss function is passed to numerical_gradient. Net1 updates a parameter matrix(net.W) in addition to Net0.gradient()"
   ]
  },
  {
   "cell_type": "code",
   "execution_count": 97,
   "id": "58fbfe97-4899-4fa8-8e7d-3d5d74cbe27a",
   "metadata": {},
   "outputs": [],
   "source": [
    "# This doesn't work :(\n",
    "class Net0:\n",
    "    '''Simple NN class which holds parameter W'''\n",
    "    def __init__(self):\n",
    "        self.W = np.random.randn(2,3)\n",
    "        \n",
    "    def predict(self, x):\n",
    "        a = np.dot(x, self.W)\n",
    "        z = softmax(a)\n",
    "        y = z\n",
    "        return y\n",
    "\n",
    "    def loss(self, x, t):\n",
    "        y = self.predict(x)\n",
    "        _loss = cross_entropy_error(y, t)\n",
    "        return _loss\n",
    "    \n",
    "    def gradient(self, x, t):\n",
    "        def f(W):\n",
    "            return self.loss(x, t)\n",
    "        return numerical_gradient(f, net.W)\n",
    "\n",
    "\n",
    "# This works with only modification of self.gradient() against the Net0.gradient().\n",
    "class Net1(Net0):\n",
    "    '''Simple NN class which holds parameter W'''\n",
    "    def gradient(self, x, t):\n",
    "        def f(W):\n",
    "            net.W = W # why do we need this with numerical_gradient_nd() used?      \n",
    "            return self.loss(x, t)\n",
    "        return numerical_gradient(f, net.W)"
   ]
  },
  {
   "cell_type": "markdown",
   "id": "3c690777-fe3f-4d41-af7d-4cf4c2897005",
   "metadata": {},
   "source": [
    "The following test with **Net0** doesn't work. Loss seems always constant."
   ]
  },
  {
   "cell_type": "code",
   "execution_count": 98,
   "id": "cc945e4f-efcd-4b80-8f9a-504351c33ca2",
   "metadata": {},
   "outputs": [
    {
     "name": "stdout",
     "output_type": "stream",
     "text": [
      "loss=3.6674507891066104\n",
      "loss=3.6674507891066104\n",
      "loss=3.6674507891066104\n",
      "loss=3.6674507891066104\n",
      "loss=3.6674507891066104\n",
      "loss=3.6674507891066104\n",
      "loss=3.6674507891066104\n",
      "loss=3.6674507891066104\n",
      "loss=3.6674507891066104\n"
     ]
    }
   ],
   "source": [
    "# data\n",
    "np.random.seed(0)\n",
    "x0 = np.array([0.6, 0.9])\n",
    "t0 = np.array([0, 0, 1])\n",
    "\n",
    "# Doesn't work\n",
    "net = Net0()\n",
    "for i in np.arange(9):\n",
    "    dW = net.gradient(x0, t0)\n",
    "    net.W -=  0.5 * dW\n",
    "    print(f\"loss={net.loss(x0, t0)}\")"
   ]
  },
  {
   "cell_type": "markdown",
   "id": "26b9503f-6a9f-4a37-81d1-19804d415c30",
   "metadata": {},
   "source": [
    "If numerical_gradient is replaced with the following simpler numerical_gradient_2d, this works OK"
   ]
  },
  {
   "cell_type": "code",
   "execution_count": 99,
   "id": "ad0a7a8f-0969-4475-931c-4976bd902f37",
   "metadata": {},
   "outputs": [
    {
     "name": "stdout",
     "output_type": "stream",
     "text": [
      "loss=0.49818359250842825\n",
      "loss=0.3721732894742513\n",
      "loss=0.2926569470459612\n",
      "loss=0.2392641046837959\n",
      "loss=0.2014525634086171\n",
      "loss=0.17349119992150133\n",
      "loss=0.1520794863966645\n",
      "loss=0.13521166003877994\n",
      "loss=0.12161009078258005\n"
     ]
    }
   ],
   "source": [
    "numerical_gradient = numerical_gradient_2d # replace nd with 2d here, and this works OK\n",
    "\n",
    "net = Net0()\n",
    "for i in np.arange(9):\n",
    "    dW = net.gradient(x0, t0)\n",
    "    net.W -=  0.5 * dW\n",
    "    print(f\"loss={net.loss(x0, t0)}\")"
   ]
  },
  {
   "cell_type": "code",
   "execution_count": 100,
   "id": "1f78d612-9ffb-484d-b5cb-87a7fbe6522f",
   "metadata": {},
   "outputs": [
    {
     "name": "stdout",
     "output_type": "stream",
     "text": [
      "loss=1.3001854908965156\n",
      "loss=0.8729299051185798\n",
      "loss=0.6049938177985322\n",
      "loss=0.4422993266571196\n",
      "loss=0.34053264446630105\n",
      "loss=0.273466707069256\n",
      "loss=0.22690856615419813\n",
      "loss=0.1931017152108553\n",
      "loss=0.1676234167519967\n"
     ]
    }
   ],
   "source": [
    "numerical_gradient = numerical_gradient_nd # restore with the original 'nd' version\n",
    "\n",
    "# Alternatively use Net1() instead of Net0()\n",
    "# Works OK\n",
    "net = Net1()\n",
    "for i in np.arange(9):\n",
    "    dW = net.gradient(x0, t0)\n",
    "    net.W -=  0.5 * dW\n",
    "    print(f\"loss={net.loss(x0, t0)}\")    "
   ]
  },
  {
   "cell_type": "markdown",
   "id": "e755a07a-e4ea-4406-aa17-9bb1a5fd699b",
   "metadata": {},
   "source": [
    "Another testing without Class, more simpified"
   ]
  },
  {
   "cell_type": "code",
   "execution_count": 101,
   "id": "57b953ab-a7cd-409d-9059-10394d70b9f8",
   "metadata": {},
   "outputs": [],
   "source": [
    "np.random.seed(0)\n",
    "W = np.random.rand(2,3)\n",
    "\n",
    "def predict(x):\n",
    "    a = np.dot(x, W)\n",
    "    z = softmax(a)\n",
    "    y = z\n",
    "    return y\n",
    "\n",
    "def loss(x, t):\n",
    "    y = predict(x)\n",
    "    return cross_entropy_error(y, t)\n",
    "\n",
    "def loss_W(_W):    \n",
    "    #W = _W      # this won't work\n",
    "    #W[...] = _W # this works OK\n",
    "    return loss(x0, t0)"
   ]
  },
  {
   "cell_type": "code",
   "execution_count": 102,
   "id": "fc8f2c80-9bca-4d94-9ce5-646c7336f8b9",
   "metadata": {},
   "outputs": [
    {
     "name": "stdout",
     "output_type": "stream",
     "text": [
      "loss_W=1.0151821715228941\n",
      "loss_W=1.0151821715228941\n",
      "loss_W=1.0151821715228941\n",
      "loss_W=1.0151821715228941\n",
      "loss_W=1.0151821715228941\n",
      "loss_W=1.0151821715228941\n",
      "loss_W=1.0151821715228941\n",
      "loss_W=1.0151821715228941\n",
      "loss_W=1.0151821715228941\n"
     ]
    }
   ],
   "source": [
    "numerical_gradient = numerical_gradient_nd # NG\n",
    "\n",
    "for i in np.arange(9):\n",
    "    dW = numerical_gradient(loss_W, W)\n",
    "    W -= 0.5 * dW\n",
    "    print(f\"loss_W={loss_W(W)}\") "
   ]
  },
  {
   "cell_type": "code",
   "execution_count": 103,
   "id": "2db51448-c93a-401a-beb0-17be4b329b79",
   "metadata": {},
   "outputs": [
    {
     "name": "stdout",
     "output_type": "stream",
     "text": [
      "loss_W=0.6959934206606462\n",
      "loss_W=0.49938552069857356\n",
      "loss_W=0.37757736153655047\n",
      "loss_W=0.29870927133781544\n",
      "loss_W=0.24493252040955152\n",
      "loss_W=0.20649812932314293\n",
      "loss_W=0.17791777406640177\n",
      "loss_W=0.15595756807225267\n",
      "loss_W=0.13862179022094626\n"
     ]
    }
   ],
   "source": [
    "numerical_gradient = numerical_gradient_2d # OK\n",
    "\n",
    "for i in np.arange(9):\n",
    "    dW = numerical_gradient(loss_W, W)\n",
    "    W -= 0.5 * dW\n",
    "    print(f\"loss_W={loss_W(W)}\") "
   ]
  },
  {
   "cell_type": "markdown",
   "id": "9d9ff6d1-b9b8-4441-833c-ab42418f5a4e",
   "metadata": {},
   "source": [
    "To summarize,\n",
    "\n",
    "| numerical_gradient_      | Net0 | Net1\n",
    "| ----------- | ----------- |----------- \n",
    "| 2d      | OK      | OK \n",
    "| nd   | NG        | NG\n",
    "\n",
    "The difference betwenn Net0 and Net1 is the existance of explicit net.W update in loss_W() function. So probably numerical_gradient_nd() seems to miss something?"
   ]
  }
 ],
 "metadata": {
  "kernelspec": {
   "display_name": "Python 3 (ipykernel)",
   "language": "python",
   "name": "python3"
  },
  "language_info": {
   "codemirror_mode": {
    "name": "ipython",
    "version": 3
   },
   "file_extension": ".py",
   "mimetype": "text/x-python",
   "name": "python",
   "nbconvert_exporter": "python",
   "pygments_lexer": "ipython3",
   "version": "3.9.5"
  }
 },
 "nbformat": 4,
 "nbformat_minor": 5
}
