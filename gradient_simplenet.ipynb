{
 "cells": [
  {
   "cell_type": "markdown",
   "id": "ba1f9104-ce1b-4be7-a291-5c039183229f",
   "metadata": {},
   "source": [
    "# Build a simple Neural Network from scratch"
   ]
  },
  {
   "cell_type": "code",
   "execution_count": 1,
   "id": "aa0444a1-adf1-4ef2-8f48-f93ac8b935a0",
   "metadata": {},
   "outputs": [],
   "source": [
    "# Basic functions to build NN\n",
    "import numpy as np\n",
    "\n",
    "def softmax(x):\n",
    "    x = x - np.max(x, axis=-1, keepdims=True)\n",
    "    return np.exp(x) / np.sum(np.exp(x), axis=-1, keepdims=True)\n",
    "\n",
    "\n",
    "def cross_entropy_error(y, t):\n",
    "    if y.ndim == 1:\n",
    "        t = t.reshape(1, t.size)\n",
    "        y = y.reshape(1, y.size)\n",
    "        \n",
    "    if t.size == y.size:\n",
    "        t = t.argmax(axis=1)\n",
    "             \n",
    "    batch_size = y.shape[0]\n",
    "    return -np.sum(np.log(y[np.arange(batch_size), t] + 1e-7)) / batch_size\n",
    "\n",
    "\n",
    "def numerical_gradient_2d(f, X):\n",
    "    h = 1e-4\n",
    "    grad = np.zeros_like(X)\n",
    "    for i, row in enumerate(X):\n",
    "        for j, val in enumerate(row):\n",
    "            X[i,j] -= h\n",
    "            y1 = f(X)\n",
    "            X[i,j] += 2*h\n",
    "            y2 = f(X)\n",
    "            grad[i,j] = (y2-y1)/(2*h)\n",
    "            X[i,j] = val\n",
    "    return grad\n",
    "\n",
    "\n",
    "# Extend the above 2-D version to N-D version as below\n",
    "def numerical_gradient_nd(f, X):\n",
    "    '''Simply nemerically calcurate gradient of parameter matrix X'''\n",
    "    h = 1e-4\n",
    "    grad = []\n",
    "    Xf = X.flatten()\n",
    "    for i, val in enumerate(Xf):\n",
    "        Xf[i] -= h\n",
    "        # Updating the content of passed pointer X since f() might not take value of X directly\n",
    "        # like in this loss functiojn case but f() would refer to X implicitly, where X means 'W'\n",
    "        X[...] = Xf.reshape(X.shape)\n",
    "        y1 = f(X)\n",
    "\n",
    "        Xf[i] += 2*h\n",
    "        X[...] = Xf.reshape(X.shape)\n",
    "        y2 = f(X)\n",
    "        \n",
    "        Xf[i] = val # Restore\n",
    "        X[...] = Xf.reshape(X.shape)\n",
    "        grad.append((y2-y1) / (2*h))\n",
    "\n",
    "    return np.array(grad).reshape(X.shape)\n",
    "\n",
    "numerical_gradient = numerical_gradient_nd # Use N-dimensional by default"
   ]
  },
  {
   "cell_type": "markdown",
   "id": "efda06c3-5ead-4722-a032-24ec1bbfd2cb",
   "metadata": {},
   "source": [
    "# Build with functions"
   ]
  },
  {
   "cell_type": "code",
   "execution_count": 2,
   "id": "44f088f0-1660-4e6c-acf7-4f96c2e8d41d",
   "metadata": {},
   "outputs": [
    {
     "name": "stdout",
     "output_type": "stream",
     "text": [
      "loss=0.6959934206606462\n",
      "loss=0.49938552069857356\n",
      "loss=0.37757736153655047\n",
      "loss=0.29870927133781544\n",
      "loss=0.24493252040955152\n",
      "loss=0.20649812932314293\n",
      "loss=0.17791777406640177\n",
      "loss=0.15595756807225267\n",
      "loss=0.13862179022094626\n"
     ]
    }
   ],
   "source": [
    "np.random.seed(0)\n",
    "x0 = np.array([0.6, 0.9])\n",
    "t0 = np.array([0, 0, 1])\n",
    "W = np.random.rand(2,3)\n",
    "\n",
    "def predict(x):\n",
    "    a = np.dot(x, W)\n",
    "    z = softmax(a)\n",
    "    y = z\n",
    "    return y\n",
    "\n",
    "def loss(x, t):\n",
    "    y = predict(x)\n",
    "    return cross_entropy_error(y, t)\n",
    "\n",
    "# Test\n",
    "for i in np.arange(9):\n",
    "    dW = numerical_gradient(lambda W:loss(x0,t0), W)\n",
    "    W -= 0.5 * dW\n",
    "    print(f\"loss={loss(x0, t0)}\") "
   ]
  },
  {
   "cell_type": "markdown",
   "id": "78c6399d-eb8a-4bc6-a86a-96404db5f64f",
   "metadata": {},
   "source": [
    "# Try with a Class"
   ]
  },
  {
   "cell_type": "code",
   "execution_count": 3,
   "id": "6672b528-22ae-43dc-8502-c7c023263656",
   "metadata": {},
   "outputs": [
    {
     "name": "stdout",
     "output_type": "stream",
     "text": [
      "loss=0.49818359250842825\n",
      "loss=0.3721732894742513\n",
      "loss=0.2926569470459612\n",
      "loss=0.2392641046837959\n",
      "loss=0.2014525634086171\n",
      "loss=0.17349119992150133\n",
      "loss=0.1520794863966645\n",
      "loss=0.13521166003877994\n",
      "loss=0.12161009078258005\n"
     ]
    }
   ],
   "source": [
    "class Net:\n",
    "    '''Simple NN class which holds parameter W'''\n",
    "    def __init__(self):\n",
    "        self.W = np.random.randn(2,3)\n",
    "        \n",
    "    def predict(self, x):\n",
    "        a = np.dot(x, self.W)\n",
    "        z = softmax(a)\n",
    "        y = z\n",
    "        return y\n",
    "\n",
    "    def loss(self, x, t):\n",
    "        y = self.predict(x)\n",
    "        _loss = cross_entropy_error(y, t)\n",
    "        return _loss\n",
    "    \n",
    "    def gradient(self, x, t):\n",
    "        f = lambda W: self.loss(x, t)\n",
    "        return numerical_gradient(f, net.W)\n",
    "\n",
    "# Test    \n",
    "net = Net()\n",
    "for i in np.arange(9):\n",
    "    dW = net.gradient(x0, t0)\n",
    "    net.W -=  0.5 * dW\n",
    "    print(f\"loss={net.loss(x0, t0)}\")"
   ]
  }
 ],
 "metadata": {
  "kernelspec": {
   "display_name": "Python 3 (ipykernel)",
   "language": "python",
   "name": "python3"
  },
  "language_info": {
   "codemirror_mode": {
    "name": "ipython",
    "version": 3
   },
   "file_extension": ".py",
   "mimetype": "text/x-python",
   "name": "python",
   "nbconvert_exporter": "python",
   "pygments_lexer": "ipython3",
   "version": "3.9.5"
  }
 },
 "nbformat": 4,
 "nbformat_minor": 5
}
