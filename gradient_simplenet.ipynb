{
 "cells": [
  {
   "cell_type": "markdown",
   "id": "ba1f9104-ce1b-4be7-a291-5c039183229f",
   "metadata": {},
   "source": [
    "# Trying to build a simple Neural Network from scratch"
   ]
  },
  {
   "cell_type": "code",
   "execution_count": 41,
   "id": "169553d1-9125-4aca-8c62-9d20fcba991e",
   "metadata": {},
   "outputs": [],
   "source": [
    "# Basic functions to build NN\n",
    "import numpy as np\n",
    "\n",
    "def softmax(x):\n",
    "    x = x - np.max(x, axis=-1, keepdims=True)\n",
    "    return np.exp(x) / np.sum(np.exp(x), axis=-1, keepdims=True)\n",
    "\n",
    "\n",
    "def cross_entropy_error(y, t):\n",
    "    if y.ndim == 1:\n",
    "        t = t.reshape(1, t.size)\n",
    "        y = y.reshape(1, y.size)\n",
    "        \n",
    "    if t.size == y.size:\n",
    "        t = t.argmax(axis=1)\n",
    "             \n",
    "    batch_size = y.shape[0]\n",
    "    return -np.sum(np.log(y[np.arange(batch_size), t] + 1e-7)) / batch_size\n",
    "\n",
    "def numerical_gradient(f, X):\n",
    "    '''Simply nemerically calcurate gradient of parameter matrix X'''\n",
    "    h = 1e-4\n",
    "    grad = []\n",
    "    Xf = X.flatten()\n",
    "    for i, val in enumerate(Xf):\n",
    "        Xf[i] -= h\n",
    "        y1 = f(Xf.reshape(X.shape))\n",
    "\n",
    "        Xf[i] += 2*h\n",
    "        y2 = f(Xf.reshape(X.shape))\n",
    "        \n",
    "        Xf[i] = val\n",
    "        grad.append((y2-y1) / (2*h))\n",
    "\n",
    "    return np.array(grad).reshape(X.shape)"
   ]
  },
  {
   "cell_type": "markdown",
   "id": "8ab2dad3-0cc3-4736-8185-b41d9f26e7fd",
   "metadata": {},
   "source": [
    "Here, I implement 2 NN class, Net0 and Net1. Net0 doesn't work but Net1 seems to work. Only difference between them is self.gradient(). In self.gradient(), loss function is passed to numerical_gradient. Net1 updates a parameter matrix(net.W) in addition to Net0.gradient()"
   ]
  },
  {
   "cell_type": "code",
   "execution_count": 42,
   "id": "58fbfe97-4899-4fa8-8e7d-3d5d74cbe27a",
   "metadata": {},
   "outputs": [],
   "source": [
    "# This doesn't work :(\n",
    "class Net0:\n",
    "    '''Simple NN class which holds parameter W'''\n",
    "    def __init__(self, W):\n",
    "        self.W = W\n",
    "        \n",
    "    def predict(self, x):\n",
    "        a = np.dot(x, self.W)\n",
    "        z = softmax(a)\n",
    "        y = z\n",
    "        return y\n",
    "\n",
    "    def loss(self, x, t):\n",
    "        y = self.predict(x)\n",
    "        _loss = cross_entropy_error(y, t)\n",
    "        return _loss\n",
    "    \n",
    "    def gradient(self, x, t):\n",
    "        def f(W):\n",
    "            return self.loss(x, t)\n",
    "        return numerical_gradient(f, net.W)\n",
    "\n",
    "\n",
    "# This works with only modification of self.gradient() against the Net0.gradient().\n",
    "class Net1(Net0):\n",
    "    '''Simple NN class which holds parameter W'''\n",
    "    def gradient(self, x, t):\n",
    "        def f(W):\n",
    "            net.W = W # why do we need this?          \n",
    "            return self.loss(x, t)\n",
    "        return numerical_gradient(f, net.W)"
   ]
  },
  {
   "cell_type": "markdown",
   "id": "3c690777-fe3f-4d41-af7d-4cf4c2897005",
   "metadata": {},
   "source": [
    "The following test with **Net0** doesn't work. Loss seems always constant."
   ]
  },
  {
   "cell_type": "code",
   "execution_count": 43,
   "id": "b4727ffa-4d16-4029-8d21-7b66e1e31dda",
   "metadata": {},
   "outputs": [
    {
     "name": "stdout",
     "output_type": "stream",
     "text": [
      "loss=3.6674507891066104\n",
      "loss=3.6674507891066104\n",
      "loss=3.6674507891066104\n",
      "loss=3.6674507891066104\n",
      "loss=3.6674507891066104\n",
      "loss=3.6674507891066104\n",
      "loss=3.6674507891066104\n",
      "loss=3.6674507891066104\n",
      "loss=3.6674507891066104\n"
     ]
    }
   ],
   "source": [
    "# data\n",
    "np.random.seed(0)\n",
    "x0 = np.array([0.6, 0.9])\n",
    "t0 = np.array([0, 0, 1])\n",
    "W0 = np.random.randn(2,3)\n",
    "\n",
    "# Works OK\n",
    "net = Net0(W0)\n",
    "for i in np.arange(9):\n",
    "    dW = net.gradient(x0, t0)\n",
    "    net.W -=  0.5 * dW\n",
    "    print(f\"loss={net.loss(x0, t0)}\")"
   ]
  },
  {
   "cell_type": "code",
   "execution_count": 44,
   "id": "1f78d612-9ffb-484d-b5cb-87a7fbe6522f",
   "metadata": {},
   "outputs": [
    {
     "name": "stdout",
     "output_type": "stream",
     "text": [
      "loss=2.78161533871936\n",
      "loss=2.0003343081582976\n",
      "loss=1.3686725260622286\n",
      "loss=0.9190010078462153\n",
      "loss=0.6335065534649551\n",
      "loss=0.45993115419801334\n",
      "loss=0.35191450377644246\n",
      "loss=0.2812081474959238\n",
      "loss=0.23243191883336756\n"
     ]
    }
   ],
   "source": [
    "# Doesn't work\n",
    "net = Net1(W0)\n",
    "for i in np.arange(9):\n",
    "    dW = net.gradient(x0, t0)\n",
    "    net.W -=  0.5 * dW\n",
    "    print(f\"loss={net.loss(x0, t0)}\")    "
   ]
  }
 ],
 "metadata": {
  "kernelspec": {
   "display_name": "Python 3 (ipykernel)",
   "language": "python",
   "name": "python3"
  },
  "language_info": {
   "codemirror_mode": {
    "name": "ipython",
    "version": 3
   },
   "file_extension": ".py",
   "mimetype": "text/x-python",
   "name": "python",
   "nbconvert_exporter": "python",
   "pygments_lexer": "ipython3",
   "version": "3.9.5"
  }
 },
 "nbformat": 4,
 "nbformat_minor": 5
}
